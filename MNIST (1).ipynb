{
 "cells": [
  {
   "cell_type": "code",
   "execution_count": 2,
   "metadata": {
    "id": "UtYDBNor7WpD"
   },
   "outputs": [],
   "source": [
    "import torch\n",
    "import numpy as np\n",
    "import torch.nn as nn\n",
    "import torch.nn.functional as F\n",
    "import torch.optim as optim\n",
    "import matplotlib.pyplot as plt\n",
    "from torchvision import transforms, datasets\n",
    "import pandas as pd\n",
    "import seaborn as sn\n",
    "import time\n",
    "import tensorflow as tf"
   ]
  },
  {
   "cell_type": "code",
   "execution_count": 3,
   "metadata": {
    "colab": {
     "base_uri": "https://localhost:8080/"
    },
    "id": "o1u4seI25Xkm",
    "outputId": "0b0680ea-40a2-4ce4-96da-a40c244f666f"
   },
   "outputs": [
    {
     "data": {
      "text/plain": [
       "device(type='cpu')"
      ]
     },
     "execution_count": 3,
     "metadata": {
      "tags": []
     },
     "output_type": "execute_result"
    }
   ],
   "source": [
    "#check if cuda available\n",
    "device = torch.device(\"cuda:0\" if torch.cuda.is_available() else \"cpu\")\n",
    "device"
   ]
  },
  {
   "cell_type": "code",
   "execution_count": 4,
   "metadata": {
    "colab": {
     "base_uri": "https://localhost:8080/",
     "height": 467,
     "referenced_widgets": [
      "c14f00b333c84fc989ef9e317c1f4309",
      "6e69f3fe4ac04250b5a353de0349021f",
      "efa53a51ac424ff7a39185913c8e102e",
      "995960904ecf442ebf201e53834d130d",
      "5a52c28f374540a6a0ee0e30b6564eb1",
      "b71c54435b6344019b58e03d03840dc6",
      "8632d45469c34ceaaef769c6ff6eb926",
      "4fdf20158ddb40f98a1a5d15c9c7d6a8",
      "b0ce2e21c79a49e8bffb4d785bbb218b",
      "821f9b0dd4974ea19a6b52df2b2a901c",
      "5566f2c7e33a4a38aa331f657ca06e33",
      "d70e9b2cba9240d0ae589839d5b70262",
      "0ae754fd3a164dc5b0f5dc38e599e206",
      "23db5a9b247c4a01afa73df3b1e2b99f",
      "b405e22769104650a97e54db107a43be",
      "7608564b82074b8cabcc0838956e57aa"
     ]
    },
    "id": "HTWstSe_4XKk",
    "outputId": "1c0c9c81-59ea-4a51-e247-f0b4be4973b8"
   },
   "outputs": [
    {
     "name": "stdout",
     "output_type": "stream",
     "text": [
      "Downloading http://yann.lecun.com/exdb/mnist/train-images-idx3-ubyte.gz\n",
      "Using downloaded and verified file: ./data/MNIST/raw/train-images-idx3-ubyte.gz\n",
      "Extracting ./data/MNIST/raw/train-images-idx3-ubyte.gz to ./data/MNIST/raw\n",
      "\n",
      "Downloading http://yann.lecun.com/exdb/mnist/train-labels-idx1-ubyte.gz\n",
      "Using downloaded and verified file: ./data/MNIST/raw/train-labels-idx1-ubyte.gz\n",
      "Extracting ./data/MNIST/raw/train-labels-idx1-ubyte.gz to ./data/MNIST/raw\n",
      "\n",
      "Downloading http://yann.lecun.com/exdb/mnist/t10k-images-idx3-ubyte.gz\n",
      "Downloading http://yann.lecun.com/exdb/mnist/t10k-images-idx3-ubyte.gz to ./data/MNIST/raw/t10k-images-idx3-ubyte.gz\n"
     ]
    },
    {
     "data": {
      "application/vnd.jupyter.widget-view+json": {
       "model_id": "c14f00b333c84fc989ef9e317c1f4309",
       "version_major": 2,
       "version_minor": 0
      },
      "text/plain": [
       "HBox(children=(FloatProgress(value=0.0, max=1648877.0), HTML(value='')))"
      ]
     },
     "metadata": {
      "tags": []
     },
     "output_type": "display_data"
    },
    {
     "name": "stdout",
     "output_type": "stream",
     "text": [
      "\n",
      "Extracting ./data/MNIST/raw/t10k-images-idx3-ubyte.gz to ./data/MNIST/raw\n",
      "\n",
      "Downloading http://yann.lecun.com/exdb/mnist/t10k-labels-idx1-ubyte.gz\n",
      "Downloading http://yann.lecun.com/exdb/mnist/t10k-labels-idx1-ubyte.gz to ./data/MNIST/raw/t10k-labels-idx1-ubyte.gz\n"
     ]
    },
    {
     "data": {
      "application/vnd.jupyter.widget-view+json": {
       "model_id": "b0ce2e21c79a49e8bffb4d785bbb218b",
       "version_major": 2,
       "version_minor": 0
      },
      "text/plain": [
       "HBox(children=(FloatProgress(value=0.0, max=4542.0), HTML(value='')))"
      ]
     },
     "metadata": {
      "tags": []
     },
     "output_type": "display_data"
    },
    {
     "name": "stdout",
     "output_type": "stream",
     "text": [
      "\n",
      "Extracting ./data/MNIST/raw/t10k-labels-idx1-ubyte.gz to ./data/MNIST/raw\n",
      "\n",
      "Processing...\n",
      "Done!\n"
     ]
    },
    {
     "name": "stderr",
     "output_type": "stream",
     "text": [
      "/usr/local/lib/python3.7/dist-packages/torchvision/datasets/mnist.py:502: UserWarning: The given NumPy array is not writeable, and PyTorch does not support non-writeable tensors. This means you can write to the underlying (supposedly non-writeable) NumPy array using the tensor. You may want to copy the array to protect its data or make it writeable before converting it to a tensor. This type of warning will be suppressed for the rest of this program. (Triggered internally at  /pytorch/torch/csrc/utils/tensor_numpy.cpp:143.)\n",
      "  return torch.from_numpy(parsed.astype(m[2], copy=False)).view(*s)\n"
     ]
    }
   ],
   "source": [
    "transform = transforms.Compose([transforms.ToTensor()])\n",
    "batch=64\n",
    "\n",
    "trainset = datasets.MNIST(root='./data', train=True, download=True, transform=transform)\n",
    "trainloader = torch.utils.data.DataLoader(trainset, batch_size=batch, shuffle=True, num_workers=2)\n",
    "\n",
    "testset =datasets.MNIST(root='./data', train=False, download=True, transform=transform)\n",
    "testloader = torch.utils.data.DataLoader(testset, batch_size=batch, shuffle=False, num_workers=2)"
   ]
  },
  {
   "cell_type": "code",
   "execution_count": 5,
   "metadata": {
    "colab": {
     "base_uri": "https://localhost:8080/"
    },
    "id": "b12mtfHf6As8",
    "outputId": "c2052d6f-e5a4-4483-9ee9-7eca28004088"
   },
   "outputs": [
    {
     "data": {
      "text/plain": [
       "60000"
      ]
     },
     "execution_count": 5,
     "metadata": {
      "tags": []
     },
     "output_type": "execute_result"
    }
   ],
   "source": [
    "len(trainloader.dataset)"
   ]
  },
  {
   "cell_type": "code",
   "execution_count": 6,
   "metadata": {
    "colab": {
     "base_uri": "https://localhost:8080/"
    },
    "id": "RyTHfxqo6TpA",
    "outputId": "e3dd06de-449b-470a-bb52-6a1ddf1cbfc3"
   },
   "outputs": [
    {
     "data": {
      "text/plain": [
       "10000"
      ]
     },
     "execution_count": 6,
     "metadata": {
      "tags": []
     },
     "output_type": "execute_result"
    }
   ],
   "source": [
    "len(testloader.dataset)"
   ]
  },
  {
   "cell_type": "code",
   "execution_count": 7,
   "metadata": {
    "colab": {
     "base_uri": "https://localhost:8080/"
    },
    "id": "Ah8yGvZwTosM",
    "outputId": "85b53348-fa1f-49a7-d7cf-99f0d08f3f2f"
   },
   "outputs": [
    {
     "name": "stdout",
     "output_type": "stream",
     "text": [
      "torch.Size([64, 1, 28, 28])\n",
      "torch.Size([64])\n"
     ]
    }
   ],
   "source": [
    "dataiter = iter(trainloader)\n",
    "images, labels = dataiter.next()\n",
    "\n",
    "print(images.shape)\n",
    "print(labels.shape)"
   ]
  },
  {
   "cell_type": "code",
   "execution_count": 8,
   "metadata": {
    "colab": {
     "base_uri": "https://localhost:8080/",
     "height": 265
    },
    "id": "q4VHx3rxpvxr",
    "outputId": "7fad6468-bf73-42c9-895a-cdddfb21280a"
   },
   "outputs": [
    {
     "data": {
      "image/png": "[encoded data removed]",
      "text/plain": [
       "<Figure size 432x288 with 1 Axes>"
      ]
     },
     "metadata": {
      "needs_background": "light",
      "tags": []
     },
     "output_type": "display_data"
    }
   ],
   "source": [
    "plt.imshow(images[0].numpy().squeeze());"
   ]
  },
  {
   "cell_type": "code",
   "execution_count": 9,
   "metadata": {
    "id": "-XM93-UqFqyv"
   },
   "outputs": [],
   "source": [
    "# model = nn.Sequential(\n",
    "#     nn.Linear(28*28,110),\n",
    "#     nn.ReLU(),\n",
    "#     nn.Linear(110,10),\n",
    "#     nn.LogSoftmax(dim=1)\n",
    "# )"
   ]
  },
  {
   "cell_type": "code",
   "execution_count": 10,
   "metadata": {
    "id": "_s6kE68RDFgC"
   },
   "outputs": [],
   "source": [
    "class cnn_model(nn.Module):\n",
    "  def __init__(self):\n",
    "    super(cnn_model,self).__init__()\n",
    "    self.cnn = nn.Sequential(\n",
    "        nn.Conv2d(in_channels=1, out_channels=12, kernel_size=3, stride=1), \n",
    "        nn.MaxPool2d(kernel_size=2),\n",
    "        nn.ReLU(),\n",
    "\n",
    "        nn.Conv2d(in_channels=12, out_channels=30, kernel_size=3, stride=1),\n",
    "        nn.MaxPool2d(kernel_size=2, stride=1),\n",
    "        nn.ReLU(),\n",
    "        )\n",
    "    self.linear = nn.Sequential(\n",
    "         nn.Linear(in_features=30*10*10, out_features=100),          \n",
    "         nn.ReLU(),\n",
    "         nn.Linear(in_features=100, out_features=10),          \n",
    "    )\n",
    "  def forward(self, x):\n",
    "        x = self.cnn(x)\n",
    "        x = x.view(x.size(0), -1)\n",
    "        x = self.linear(x)\n",
    "        return x"
   ]
  },
  {
   "cell_type": "code",
   "execution_count": 11,
   "metadata": {
    "id": "J7JvVpj-HV8z"
   },
   "outputs": [],
   "source": [
    "saved_model = cnn_model()"
   ]
  },
  {
   "cell_type": "code",
   "execution_count": 12,
   "metadata": {
    "id": "k-eQkDQFglNJ"
   },
   "outputs": [],
   "source": [
    "torch.save(saved_model.state_dict(), 'weights_only.pth')"
   ]
  },
  {
   "cell_type": "code",
   "execution_count": 13,
   "metadata": {
    "id": "IlcGfNTWPiu4"
   },
   "outputs": [],
   "source": [
    "#Initialising Some metrics for comparison after multiple runs\n",
    "\n",
    "opts = [\"Adam\",\"SGD\",\"RMSProp\",\"AdamW\",\"Adagrad\",\"Adamax\"]\n",
    "\n",
    "Best_Test_Accuracy=[]\n",
    "Saturation_epochs=[]\n",
    "Mean_Test_Accuracy=[]\n",
    "Std_Test_Accuracy=[]\n",
    "Mean_Train_Accuracy=[]\n",
    "Std_Train_Accuracy=[]\n",
    "Time=[]\n",
    "Best_epoch=[]"
   ]
  },
  {
   "cell_type": "markdown",
   "metadata": {
    "id": "M0YKtxTogr39"
   },
   "source": [
    "For each Optimizer we are going to load the saved model and weights without initialising again and again"
   ]
  },
  {
   "cell_type": "code",
   "execution_count": 156,
   "metadata": {
    "colab": {
     "base_uri": "https://localhost:8080/"
    },
    "id": "hqK5QFWvg4Ou",
    "outputId": "139b9075-ca00-4c7e-a18d-277cc588caca"
   },
   "outputs": [
    {
     "data": {
      "text/plain": [
       "<All keys matched successfully>"
      ]
     },
     "execution_count": 156,
     "metadata": {
      "tags": []
     },
     "output_type": "execute_result"
    }
   ],
   "source": [
    "model= cnn_model()\n",
    "model.load_state_dict(torch.load('weights_only.pth'))"
   ]
  },
  {
   "cell_type": "code",
   "execution_count": 157,
   "metadata": {
    "id": "x2lkKesdhLrJ"
   },
   "outputs": [],
   "source": [
    "criterion = nn.CrossEntropyLoss()\n",
    "lr=0.001"
   ]
  },
  {
   "cell_type": "markdown",
   "metadata": {},
   "source": [
    "We sequentially choose a optimiser and update its results in the predeclared variables\n"
   ]
  },
  {
   "cell_type": "code",
   "execution_count": 158,
   "metadata": {
    "id": "1sIG1FUhcH7h"
   },
   "outputs": [],
   "source": [
    "import torch.optim as optim\n",
    "# optimizer = optim.Adam(model.parameters(),lr=lr)\n",
    "# optimizer = optim.SGD(model.parameters(),lr=lr,momentum=0.9)\n",
    "# optimizer = optim.RMSprop(model.parameters(),lr=lr)\n",
    "# optimizer = optim.AdamW(model.parameters(),lr=lr)\n",
    "# optimizer = optim.Adagrad(model.parameters(),lr=lr)\n",
    "optimizer = optim.Adamax(model.parameters(),lr=lr)"
   ]
  },
  {
   "cell_type": "code",
   "execution_count": 159,
   "metadata": {
    "colab": {
     "base_uri": "https://localhost:8080/"
    },
    "id": "iFlx5xIdTFfN",
    "outputId": "d1b0f581-d65c-47e3-b605-136f58958b56"
   },
   "outputs": [
    {
     "name": "stdout",
     "output_type": "stream",
     "text": [
      "Epoch 0 - Training loss: 0.2699178249211803\n",
      "Training Accuracy : 92.25666666666666\n",
      "Model Accuracy at epoch 0 = 97.41\n",
      "\n",
      "Epoch 1 - Training loss: 0.08288200927733469\n",
      "Training Accuracy : 97.49333333333334\n",
      "Model Accuracy at epoch 1 = 98.04\n",
      "\n",
      "Epoch 2 - Training loss: 0.05924487946036734\n",
      "Training Accuracy : 98.23333333333333\n",
      "Model Accuracy at epoch 2 = 98.31\n",
      "\n",
      "Epoch 3 - Training loss: 0.048099135205562686\n",
      "Training Accuracy : 98.49333333333334\n",
      "Model Accuracy at epoch 3 = 98.76\n",
      "\n",
      "Epoch 4 - Training loss: 0.04049783390671162\n",
      "Training Accuracy : 98.72\n",
      "Model Accuracy at epoch 4 = 98.84\n",
      "\n",
      "Epoch 5 - Training loss: 0.035678301989756175\n",
      "Training Accuracy : 98.92333333333333\n",
      "Model Accuracy at epoch 5 = 98.92\n",
      "\n",
      "Epoch 6 - Training loss: 0.03156480483388328\n",
      "Training Accuracy : 99.02833333333334\n",
      "Model Accuracy at epoch 6 = 99.0\n",
      "\n",
      "Epoch 7 - Training loss: 0.027902099245321204\n",
      "Training Accuracy : 99.14333333333333\n",
      "Model Accuracy at epoch 7 = 98.99\n",
      "\n",
      "Epoch 8 - Training loss: 0.024430008935658925\n",
      "Training Accuracy : 99.24\n",
      "Model Accuracy at epoch 8 = 98.91\n",
      "\n",
      "Epoch 9 - Training loss: 0.02163727897131738\n",
      "Training Accuracy : 99.345\n",
      "Model Accuracy at epoch 9 = 98.9\n",
      "\n"
     ]
    }
   ],
   "source": [
    "start=time.time()\n",
    "epochs = 0\n",
    "max_epochs=30\n",
    "Train_Loss = []\n",
    "Train_Accuracy = []\n",
    "Test_Accuracy=[]\n",
    "\n",
    "for e in range(max_epochs+1):\n",
    "    epochs=e\n",
    "    running_loss = 0\n",
    "    total=0\n",
    "    for images, labels in trainloader:\n",
    "\n",
    "    \n",
    "        # Training pass\n",
    "        optimizer.zero_grad()\n",
    "        \n",
    "        output = model(images)\n",
    "        loss = criterion(output, labels)\n",
    "\n",
    "        #This is where the model learns by backpropagating\n",
    "        loss.backward()\n",
    "        \n",
    "        #And optimizes its weights here\n",
    "        optimizer.step()\n",
    "        \n",
    "        pred = torch.nn.functional.softmax(output, dim=1)\n",
    "        for i, p in enumerate(pred):\n",
    "            if labels[i] == torch.max(p.data, 0)[1]:\n",
    "                total = total + 1\n",
    "        accuracy  = total*100/len(trainset)\n",
    "        \n",
    "        running_loss += loss.item()\n",
    "        train_loss = running_loss/len(trainloader)\n",
    "    else:\n",
    "        Train_Loss.append(train_loss)\n",
    "        Train_Accuracy.append(accuracy)\n",
    "        print(\"Epoch {} - Training loss: {}\".format(e, train_loss))\n",
    "        print(\"Training Accuracy : {}\".format(accuracy))\n",
    "    correct, count = 0, 0\n",
    "    y_labels=[]\n",
    "    y_test=[]\n",
    "    for images,labels in testloader:\n",
    "      for i in range(len(labels)):\n",
    "        img = images[i].view(-1,1,28,28)\n",
    "        with torch.no_grad():\n",
    "            logps = model(img)\n",
    "\n",
    "        ps = torch.exp(logps)\n",
    "        probab = list(ps.numpy()[0])\n",
    "        pred_label = probab.index(max(probab))\n",
    "        y_labels.append(pred_label)\n",
    "        true_label = labels.numpy()[i]\n",
    "        y_test.append(true_label)\n",
    "        if(true_label == pred_label):\n",
    "          correct += 1\n",
    "        count += 1\n",
    "    test_acc = correct*100/count\n",
    "    Test_Accuracy.append(test_acc)\n",
    "    print(\"Model Accuracy at epoch {} =\".format(e),test_acc)\n",
    "    print()\n",
    "\n",
    "    if (e>=2 and abs(Test_Accuracy[-1]-Test_Accuracy[-2])<0.01):\n",
    "      break\n",
    "\n",
    "end=time.time()"
   ]
  },
  {
   "cell_type": "code",
   "execution_count": 160,
   "metadata": {
    "colab": {
     "base_uri": "https://localhost:8080/"
    },
    "id": "Ad6_O78M-713",
    "outputId": "16f50e75-cafa-4175-e366-1f03fe2cd17b"
   },
   "outputs": [
    {
     "name": "stdout",
     "output_type": "stream",
     "text": [
      "47.298637284172905\n"
     ]
    }
   ],
   "source": [
    "time_taken = end-start\n",
    "print(time_taken/epochs)"
   ]
  },
  {
   "cell_type": "code",
   "execution_count": 161,
   "metadata": {
    "colab": {
     "base_uri": "https://localhost:8080/"
    },
    "id": "B6MBXXXHIcbC",
    "outputId": "ccdf842b-ddf5-41c9-83ad-ef91f763cd21"
   },
   "outputs": [
    {
     "name": "stdout",
     "output_type": "stream",
     "text": [
      "98.08766666666666\n",
      "2.0135989339157563\n"
     ]
    }
   ],
   "source": [
    "mean_train_accuracy = sum(Train_Accuracy) / len(Train_Accuracy)\n",
    "variance_train_accuracy = sum([((x - mean_train_accuracy) ** 2) for x in Train_Accuracy]) / len(Train_Accuracy)\n",
    "std_train_accuracy = variance_train_accuracy**0.5\n",
    "print(mean_train_accuracy)\n",
    "print(std_train_accuracy)"
   ]
  },
  {
   "cell_type": "code",
   "execution_count": 162,
   "metadata": {
    "colab": {
     "base_uri": "https://localhost:8080/"
    },
    "id": "7UJlhg_BJ0Te",
    "outputId": "7712b7d4-187a-45b6-e474-8ee2bf1376ff"
   },
   "outputs": [
    {
     "name": "stdout",
     "output_type": "stream",
     "text": [
      "98.60799999999999\n",
      "0.7214172009162121\n"
     ]
    }
   ],
   "source": [
    "mean_test_accuracy = sum(Test_Accuracy) / len(Test_Accuracy)\n",
    "variance_test_accuracy = sum([((x - mean_train_accuracy) ** 2) for x in Test_Accuracy]) / len(Test_Accuracy)\n",
    "std_test_accuracy = variance_test_accuracy**0.5\n",
    "print(mean_test_accuracy)\n",
    "print(std_test_accuracy)"
   ]
  },
  {
   "cell_type": "code",
   "execution_count": 163,
   "metadata": {
    "colab": {
     "base_uri": "https://localhost:8080/"
    },
    "id": "UU-XeDRlKZNq",
    "outputId": "eae7070c-afc1-49ad-bd3f-d03f39c56fda"
   },
   "outputs": [
    {
     "name": "stdout",
     "output_type": "stream",
     "text": [
      "99.0\n",
      "6\n",
      "9\n"
     ]
    }
   ],
   "source": [
    "best_test_accuracy = max(Test_Accuracy)\n",
    "print(best_test_accuracy)\n",
    "print(Test_Accuracy.index(best_test_accuracy))\n",
    "sat_epochs = epochs\n",
    "print(sat_epochs)"
   ]
  },
  {
   "cell_type": "code",
   "execution_count": 164,
   "metadata": {
    "id": "SEpX7K8deFNs"
   },
   "outputs": [],
   "source": [
    "def view(img):\n",
    "    fig, (ax1) = plt.subplots(figsize=(2,3))\n",
    "    ax1.imshow(img.resize_(1, 28, 28).numpy().squeeze())\n",
    "    ax1.axis('off')\n",
    "    plt.tight_layout()"
   ]
  },
  {
   "cell_type": "code",
   "execution_count": 165,
   "metadata": {
    "colab": {
     "base_uri": "https://localhost:8080/",
     "height": 627
    },
    "id": "cJehoL8PcCWJ",
    "outputId": "4bc0ee0b-7981-4473-8835-87c62ff6e5b8"
   },
   "outputs": [
    {
     "name": "stdout",
     "output_type": "stream",
     "text": [
      "Predicted Digit = 7\n",
      "Predicted Digit = 2\n",
      "Predicted Digit = 1\n",
      "Predicted Digit = 0\n"
     ]
    },
    {
     "data": {
      "image/png": "[encoded data removed]",
      "text/plain": [
       "<Figure size 144x216 with 1 Axes>"
      ]
     },
     "metadata": {
      "needs_background": "light",
      "tags": []
     },
     "output_type": "display_data"
    },
    {
     "data": {
      "image/png": "[encoded data removed]",
      "text/plain": [
       "<Figure size 144x216 with 1 Axes>"
      ]
     },
     "metadata": {
      "needs_background": "light",
      "tags": []
     },
     "output_type": "display_data"
    },
    {
     "data": {
      "image/png": "[encoded data removed]",
      "text/plain": [
       "<Figure size 144x216 with 1 Axes>"
      ]
     },
     "metadata": {
      "needs_background": "light",
      "tags": []
     },
     "output_type": "display_data"
    },
    {
     "data": {
      "image/png": "[encoded data removed]",
      "text/plain": [
       "<Figure size 144x216 with 1 Axes>"
      ]
     },
     "metadata": {
      "needs_background": "light",
      "tags": []
     },
     "output_type": "display_data"
    }
   ],
   "source": [
    "images, labels = next(iter(testloader))\n",
    "for i in range (0,4):\n",
    "  img = images[i].view(-1,1,28,28)\n",
    "  with torch.no_grad():\n",
    "      logps = model(img)\n",
    "\n",
    "  ps = torch.exp(logps)\n",
    "  probab = list(ps.numpy()[0])\n",
    "  print(\"Predicted Digit =\", probab.index(max(probab)))\n",
    "  view(img)"
   ]
  },
  {
   "cell_type": "code",
   "execution_count": 166,
   "metadata": {
    "colab": {
     "base_uri": "https://localhost:8080/"
    },
    "id": "zqoEt4eEgX_X",
    "outputId": "82c52daa-e69e-4f19-f1f4-f78281eb7d8e"
   },
   "outputs": [
    {
     "data": {
      "text/plain": [
       "<tf.Tensor: shape=(10, 10), dtype=int32, numpy=\n",
       "array([[ 976,    0,    0,    0,    0,    0,    0,    2,    2,    0],\n",
       "       [   0, 1135,    0,    0,    0,    0,    0,    0,    0,    0],\n",
       "       [   3,    1, 1019,    1,    1,    0,    0,    7,    0,    0],\n",
       "       [   1,    0,    0, 1002,    0,    2,    0,    5,    0,    0],\n",
       "       [   0,    0,    0,    0,  979,    0,    1,    0,    0,    2],\n",
       "       [   2,    0,    0,   10,    0,  874,    1,    2,    1,    2],\n",
       "       [   5,    3,    0,    0,    4,    6,  939,    0,    1,    0],\n",
       "       [   0,    1,    3,    0,    0,    0,    0, 1022,    1,    1],\n",
       "       [   6,    0,    4,    1,    1,    2,    0,    2,  955,    3],\n",
       "       [   2,    2,    1,    1,    6,    2,    0,    4,    2,  989]],\n",
       "      dtype=int32)>"
      ]
     },
     "execution_count": 166,
     "metadata": {
      "tags": []
     },
     "output_type": "execute_result"
    }
   ],
   "source": [
    "cm=tf.math.confusion_matrix(labels=y_test , predictions=y_labels)\n",
    "cm"
   ]
  },
  {
   "cell_type": "code",
   "execution_count": 167,
   "metadata": {
    "colab": {
     "base_uri": "https://localhost:8080/",
     "height": 351
    },
    "id": "EDHOA9S7hl35",
    "outputId": "225b9cf5-def8-4b1f-c542-f067c822369f"
   },
   "outputs": [
    {
     "data": {
      "text/plain": [
       "Text(69.0, 0.5, 'Actual')"
      ]
     },
     "execution_count": 167,
     "metadata": {
      "tags": []
     },
     "output_type": "execute_result"
    },
    {
     "data": {
      "image/png": "[encoded data removed]",
      "text/plain": [
       "<Figure size 720x360 with 2 Axes>"
      ]
     },
     "metadata": {
      "needs_background": "light",
      "tags": []
     },
     "output_type": "display_data"
    }
   ],
   "source": [
    "plt.figure(figsize=(10,5))\n",
    "sn.heatmap(cm,annot=True,fmt='d')\n",
    "plt.xlabel(\"predicted\")\n",
    "plt.ylabel(\"Actual\")"
   ]
  },
  {
   "cell_type": "code",
   "execution_count": 168,
   "metadata": {
    "colab": {
     "base_uri": "https://localhost:8080/",
     "height": 405
    },
    "id": "QJyv_gkBvrDg",
    "outputId": "728ef169-cb6a-4de8-99b5-d4b31942f7d6"
   },
   "outputs": [
    {
     "data": {
      "text/plain": [
       "Text(0, 0.5, 'Loss')"
      ]
     },
     "execution_count": 168,
     "metadata": {
      "tags": []
     },
     "output_type": "execute_result"
    },
    {
     "data": {
      "image/png": "[encoded data removed]",
      "text/plain": [
       "<Figure size 720x432 with 1 Axes>"
      ]
     },
     "metadata": {
      "needs_background": "light",
      "tags": []
     },
     "output_type": "display_data"
    }
   ],
   "source": [
    "num_epochs=[i for i in range(epochs+1)]\n",
    "fig = plt.figure(figsize=[10,6]) \n",
    "plt.plot(num_epochs,Train_Loss,'g-',label='Training Loss') \n",
    "plt.legend(loc='upper right')\n",
    "plt.xlabel('Epochs')\n",
    "plt.ylabel('Loss')"
   ]
  },
  {
   "cell_type": "code",
   "execution_count": 169,
   "metadata": {
    "colab": {
     "base_uri": "https://localhost:8080/",
     "height": 405
    },
    "id": "q1pogrf8xExb",
    "outputId": "f289b0b1-2fce-436c-c7ea-f8ea09a18ff6"
   },
   "outputs": [
    {
     "data": {
      "text/plain": [
       "Text(0, 0.5, 'Accuracy')"
      ]
     },
     "execution_count": 169,
     "metadata": {
      "tags": []
     },
     "output_type": "execute_result"
    },
    {
     "data": {
      "image/png": "[encoded data removed]",
      "text/plain": [
       "<Figure size 720x432 with 1 Axes>"
      ]
     },
     "metadata": {
      "needs_background": "light",
      "tags": []
     },
     "output_type": "display_data"
    }
   ],
   "source": [
    "fig = plt.figure(figsize=[10,6]) \n",
    "plt.plot(num_epochs,Train_Accuracy,'b-',label='Training accuracy') \n",
    "plt.legend(loc='center right')\n",
    "plt.xlabel('Epochs')\n",
    "plt.ylabel('Accuracy')"
   ]
  },
  {
   "cell_type": "code",
   "execution_count": 170,
   "metadata": {
    "colab": {
     "base_uri": "https://localhost:8080/",
     "height": 405
    },
    "id": "RcmGawjHLSLF",
    "outputId": "f343982f-d1ed-48bd-a236-44d10b72f4c3"
   },
   "outputs": [
    {
     "data": {
      "text/plain": [
       "Text(0, 0.5, 'Accuracy')"
      ]
     },
     "execution_count": 170,
     "metadata": {
      "tags": []
     },
     "output_type": "execute_result"
    },
    {
     "data": {
      "image/png": "[encoded data removed]",
      "text/plain": [
       "<Figure size 720x432 with 1 Axes>"
      ]
     },
     "metadata": {
      "needs_background": "light",
      "tags": []
     },
     "output_type": "display_data"
    }
   ],
   "source": [
    "fig = plt.figure(figsize=[10,6]) \n",
    "plt.plot(num_epochs,Test_Accuracy,'r-',label='Test accuracy') \n",
    "plt.legend(loc='center right')\n",
    "plt.xlabel('Epochs')\n",
    "plt.ylabel('Accuracy')"
   ]
  },
  {
   "cell_type": "code",
   "execution_count": 171,
   "metadata": {
    "id": "aOeq5BqQOS05"
   },
   "outputs": [],
   "source": [
    "Best_Test_Accuracy.append(best_test_accuracy)\n",
    "Saturation_epochs.append(sat_epochs)\n",
    "Mean_Test_Accuracy.append(mean_test_accuracy)\n",
    "Std_Test_Accuracy.append(std_test_accuracy)\n",
    "Mean_Train_Accuracy.append(mean_train_accuracy)\n",
    "Std_Train_Accuracy.append(std_train_accuracy)\n",
    "Time.append(time_taken/epochs)\n",
    "Best_epoch.append(Test_Accuracy.index(best_test_accuracy))"
   ]
  },
  {
   "cell_type": "markdown",
   "metadata": {
    "id": "zMT6FDQWWHAW"
   },
   "source": [
    "After Completing all the runs for different optimizers we plot the comparison graphs"
   ]
  },
  {
   "cell_type": "code",
   "execution_count": 182,
   "metadata": {
    "colab": {
     "base_uri": "https://localhost:8080/",
     "height": 405
    },
    "id": "GQMExpGhWDox",
    "outputId": "59b025d9-ef49-4e54-aa8f-c5aa39d61052"
   },
   "outputs": [
    {
     "data": {
      "text/plain": [
       "Text(0, 0.5, 'Accuracy')"
      ]
     },
     "execution_count": 182,
     "metadata": {
      "tags": []
     },
     "output_type": "execute_result"
    },
    {
     "data": {
      "image/png": "[encoded data removed]",
      "text/plain": [
       "<Figure size 720x432 with 1 Axes>"
      ]
     },
     "metadata": {
      "needs_background": "light",
      "tags": []
     },
     "output_type": "display_data"
    }
   ],
   "source": [
    "fig = plt.figure(figsize=[10,6]) \n",
    "plt.plot(opts,Best_Test_Accuracy,label='Best test accuracy',marker='o') \n",
    "plt.legend(loc='upper right')\n",
    "plt.xlabel('Optimizers')\n",
    "plt.ylabel('Accuracy')"
   ]
  },
  {
   "cell_type": "code",
   "execution_count": 183,
   "metadata": {
    "colab": {
     "base_uri": "https://localhost:8080/",
     "height": 405
    },
    "id": "oa70JOLgX9dT",
    "outputId": "e66e662b-d223-460b-df69-c2db8f5a3441"
   },
   "outputs": [
    {
     "data": {
      "text/plain": [
       "Text(0, 0.5, 'Time (in sec)')"
      ]
     },
     "execution_count": 183,
     "metadata": {
      "tags": []
     },
     "output_type": "execute_result"
    },
    {
     "data": {
      "image/png": "[encoded data removed]",
      "text/plain": [
       "<Figure size 720x432 with 1 Axes>"
      ]
     },
     "metadata": {
      "needs_background": "light",
      "tags": []
     },
     "output_type": "display_data"
    }
   ],
   "source": [
    "fig = plt.figure(figsize=[10,6]) \n",
    "plt.plot(opts,Time,label='Running Time per epoch',marker='o') \n",
    "plt.legend(loc='upper right')\n",
    "plt.xlabel('Optimizers')\n",
    "plt.ylabel('Time (in sec)')"
   ]
  },
  {
   "cell_type": "code",
   "execution_count": 184,
   "metadata": {
    "colab": {
     "base_uri": "https://localhost:8080/",
     "height": 405
    },
    "id": "4A5_0GJEdDtR",
    "outputId": "488baf22-1385-4b7c-976d-8bb77120f9e8"
   },
   "outputs": [
    {
     "data": {
      "text/plain": [
       "Text(0, 0.5, 'Epochs')"
      ]
     },
     "execution_count": 184,
     "metadata": {
      "tags": []
     },
     "output_type": "execute_result"
    },
    {
     "data": {
      "image/png": "[encoded data removed]",
      "text/plain": [
       "<Figure size 720x432 with 1 Axes>"
      ]
     },
     "metadata": {
      "needs_background": "light",
      "tags": []
     },
     "output_type": "display_data"
    }
   ],
   "source": [
    "fig = plt.figure(figsize=[10,6]) \n",
    "plt.plot(opts,Best_epoch,label='Epochs taken for best accuracy',marker='o') \n",
    "plt.legend(loc='upper right')\n",
    "plt.xlabel('Optimizers')\n",
    "plt.ylabel('Epochs')"
   ]
  },
  {
   "cell_type": "code",
   "execution_count": 185,
   "metadata": {
    "colab": {
     "base_uri": "https://localhost:8080/",
     "height": 405
    },
    "id": "KBGoIkLVX9Z7",
    "outputId": "8c6396ee-cfd4-45d9-eee5-14cb33a409be"
   },
   "outputs": [
    {
     "data": {
      "text/plain": [
       "Text(0, 0.5, 'Epochs')"
      ]
     },
     "execution_count": 185,
     "metadata": {
      "tags": []
     },
     "output_type": "execute_result"
    },
    {
     "data": {
      "image/png": "[encoded data removed]",
      "text/plain": [
       "<Figure size 720x432 with 1 Axes>"
      ]
     },
     "metadata": {
      "needs_background": "light",
      "tags": []
     },
     "output_type": "display_data"
    }
   ],
   "source": [
    "fig = plt.figure(figsize=[10,6]) \n",
    "plt.plot(opts,Saturation_epochs,label='Saturation Epochs',marker='o') \n",
    "plt.legend(loc='upper right')\n",
    "plt.xlabel('Optimizers')\n",
    "plt.ylabel('Epochs')"
   ]
  },
  {
   "cell_type": "code",
   "execution_count": 186,
   "metadata": {
    "colab": {
     "base_uri": "https://localhost:8080/",
     "height": 405
    },
    "id": "uRy6cdF8X9YR",
    "outputId": "bcf50075-48b5-4509-de02-ef73b9496b16"
   },
   "outputs": [
    {
     "data": {
      "text/plain": [
       "Text(0, 0.5, 'Accuracy')"
      ]
     },
     "execution_count": 186,
     "metadata": {
      "tags": []
     },
     "output_type": "execute_result"
    },
    {
     "data": {
      "image/png": "[encoded data removed]",
      "text/plain": [
       "<Figure size 720x432 with 1 Axes>"
      ]
     },
     "metadata": {
      "needs_background": "light",
      "tags": []
     },
     "output_type": "display_data"
    }
   ],
   "source": [
    "fig = plt.figure(figsize=[10,6]) \n",
    "plt.plot(opts,Mean_Test_Accuracy,label='Mean test accuracy',marker='o') \n",
    "plt.legend(loc='upper right')\n",
    "plt.xlabel('Optimizers')\n",
    "plt.ylabel('Accuracy')"
   ]
  },
  {
   "cell_type": "code",
   "execution_count": 187,
   "metadata": {
    "colab": {
     "base_uri": "https://localhost:8080/",
     "height": 405
    },
    "id": "fAiv0CVjX9Sx",
    "outputId": "d677c369-44e3-4596-f063-25ad4160d021"
   },
   "outputs": [
    {
     "data": {
      "text/plain": [
       "Text(0, 0.5, 'Accuracy')"
      ]
     },
     "execution_count": 187,
     "metadata": {
      "tags": []
     },
     "output_type": "execute_result"
    },
    {
     "data": {
      "image/png": "[encoded data removed]",
      "text/plain": [
       "<Figure size 720x432 with 1 Axes>"
      ]
     },
     "metadata": {
      "needs_background": "light",
      "tags": []
     },
     "output_type": "display_data"
    }
   ],
   "source": [
    "fig = plt.figure(figsize=[10,6]) \n",
    "plt.plot(opts,Mean_Train_Accuracy,label='Mean train accuracy',marker='o') \n",
    "plt.legend(loc='upper right')\n",
    "plt.xlabel('Optimizers')\n",
    "plt.ylabel('Accuracy')"
   ]
  },
  {
   "cell_type": "code",
   "execution_count": 188,
   "metadata": {
    "colab": {
     "base_uri": "https://localhost:8080/",
     "height": 405
    },
    "id": "7Obx2yCgX9Kw",
    "outputId": "fc3eb2f6-8442-4872-a889-97e7c74e8295"
   },
   "outputs": [
    {
     "data": {
      "text/plain": [
       "Text(0, 0.5, 'Std')"
      ]
     },
     "execution_count": 188,
     "metadata": {
      "tags": []
     },
     "output_type": "execute_result"
    },
    {
     "data": {
      "image/png": "[encoded data removed]",
      "text/plain": [
       "<Figure size 720x432 with 1 Axes>"
      ]
     },
     "metadata": {
      "needs_background": "light",
      "tags": []
     },
     "output_type": "display_data"
    }
   ],
   "source": [
    "fig = plt.figure(figsize=[10,6]) \n",
    "plt.plot(opts,Std_Test_Accuracy,label='Std of test accuracy',marker='o') \n",
    "plt.legend(loc='upper right')\n",
    "plt.xlabel('Optimizers')\n",
    "plt.ylabel('Std')"
   ]
  },
  {
   "cell_type": "code",
   "execution_count": 196,
   "metadata": {
    "colab": {
     "base_uri": "https://localhost:8080/",
     "height": 405
    },
    "id": "oBrLgOGQX8-n",
    "outputId": "44191d47-9964-48ec-b944-fe2bfe3e681e"
   },
   "outputs": [
    {
     "data": {
      "text/plain": [
       "Text(0, 0.5, 'Std')"
      ]
     },
     "execution_count": 196,
     "metadata": {
      "tags": []
     },
     "output_type": "execute_result"
    },
    {
     "data": {
      "image/png": "[encoded data removed]",
      "text/plain": [
       "<Figure size 720x432 with 1 Axes>"
      ]
     },
     "metadata": {
      "needs_background": "light",
      "tags": []
     },
     "output_type": "display_data"
    }
   ],
   "source": [
    "fig = plt.figure(figsize=[10,6]) \n",
    "plt.plot(opts,Std_Train_Accuracy,label='Std of train accuracy',marker='o') \n",
    "plt.legend(loc='upper right')\n",
    "plt.xlabel('Optimizers')\n",
    "plt.ylabel('Std')"
   ]
  },
  {
   "cell_type": "code",
   "execution_count": null,
   "metadata": {
    "id": "oimt1-8wiVKJ"
   },
   "outputs": [],
   "source": [
    "# torch.save(model, './mnist.pt') "
   ]
  }
 ],
 "metadata": {
  "colab": {
   "collapsed_sections": [],
   "name": "MNIST.ipynb",
   "provenance": []
  },
  "kernelspec": {
   "display_name": "Python 3",
   "language": "python",
   "name": "python3"
  },
  "language_info": {
   "codemirror_mode": {
    "name": "ipython",
    "version": 3
   },
   "file_extension": ".py",
   "mimetype": "text/x-python",
   "name": "python",
   "nbconvert_exporter": "python",
   "pygments_lexer": "ipython3",
   "version": "3.8.8"
  },
  "widgets": {
   "application/vnd.jupyter.widget-state+json": {
    "0ae754fd3a164dc5b0f5dc38e599e206": {
     "model_module": "@jupyter-widgets/controls",
     "model_name": "ProgressStyleModel",
     "state": {
      "_model_module": "@jupyter-widgets/controls",
      "_model_module_version": "1.5.0",
      "_model_name": "ProgressStyleModel",
      "_view_count": null,
      "_view_module": "@jupyter-widgets/base",
      "_view_module_version": "1.2.0",
      "_view_name": "StyleView",
      "bar_color": null,
      "description_width": "initial"
     }
    },
    "23db5a9b247c4a01afa73df3b1e2b99f": {
     "model_module": "@jupyter-widgets/base",
     "model_name": "LayoutModel",
     "state": {
      "_model_module": "@jupyter-widgets/base",
      "_model_module_version": "1.2.0",
      "_model_name": "LayoutModel",
      "_view_count": null,
      "_view_module": "@jupyter-widgets/base",
      "_view_module_version": "1.2.0",
      "_view_name": "LayoutView",
      "align_content": null,
      "align_items": null,
      "align_self": null,
      "border": null,
      "bottom": null,
      "display": null,
      "flex": null,
      "flex_flow": null,
      "grid_area": null,
      "grid_auto_columns": null,
      "grid_auto_flow": null,
      "grid_auto_rows": null,
      "grid_column": null,
      "grid_gap": null,
      "grid_row": null,
      "grid_template_areas": null,
      "grid_template_columns": null,
      "grid_template_rows": null,
      "height": null,
      "justify_content": null,
      "justify_items": null,
      "left": null,
      "margin": null,
      "max_height": null,
      "max_width": null,
      "min_height": null,
      "min_width": null,
      "object_fit": null,
      "object_position": null,
      "order": null,
      "overflow": null,
      "overflow_x": null,
      "overflow_y": null,
      "padding": null,
      "right": null,
      "top": null,
      "visibility": null,
      "width": null
     }
    },
    "4fdf20158ddb40f98a1a5d15c9c7d6a8": {
     "model_module": "@jupyter-widgets/base",
     "model_name": "LayoutModel",
     "state": {
      "_model_module": "@jupyter-widgets/base",
      "_model_module_version": "1.2.0",
      "_model_name": "LayoutModel",
      "_view_count": null,
      "_view_module": "@jupyter-widgets/base",
      "_view_module_version": "1.2.0",
      "_view_name": "LayoutView",
      "align_content": null,
      "align_items": null,
      "align_self": null,
      "border": null,
      "bottom": null,
      "display": null,
      "flex": null,
      "flex_flow": null,
      "grid_area": null,
      "grid_auto_columns": null,
      "grid_auto_flow": null,
      "grid_auto_rows": null,
      "grid_column": null,
      "grid_gap": null,
      "grid_row": null,
      "grid_template_areas": null,
      "grid_template_columns": null,
      "grid_template_rows": null,
      "height": null,
      "justify_content": null,
      "justify_items": null,
      "left": null,
      "margin": null,
      "max_height": null,
      "max_width": null,
      "min_height": null,
      "min_width": null,
      "object_fit": null,
      "object_position": null,
      "order": null,
      "overflow": null,
      "overflow_x": null,
      "overflow_y": null,
      "padding": null,
      "right": null,
      "top": null,
      "visibility": null,
      "width": null
     }
    },
    "5566f2c7e33a4a38aa331f657ca06e33": {
     "model_module": "@jupyter-widgets/controls",
     "model_name": "FloatProgressModel",
     "state": {
      "_dom_classes": [],
      "_model_module": "@jupyter-widgets/controls",
      "_model_module_version": "1.5.0",
      "_model_name": "FloatProgressModel",
      "_view_count": null,
      "_view_module": "@jupyter-widgets/controls",
      "_view_module_version": "1.5.0",
      "_view_name": "ProgressView",
      "bar_style": "success",
      "description": "",
      "description_tooltip": null,
      "layout": "IPY_MODEL_23db5a9b247c4a01afa73df3b1e2b99f",
      "max": 4542,
      "min": 0,
      "orientation": "horizontal",
      "style": "IPY_MODEL_0ae754fd3a164dc5b0f5dc38e599e206",
      "value": 4542
     }
    },
    "5a52c28f374540a6a0ee0e30b6564eb1": {
     "model_module": "@jupyter-widgets/controls",
     "model_name": "ProgressStyleModel",
     "state": {
      "_model_module": "@jupyter-widgets/controls",
      "_model_module_version": "1.5.0",
      "_model_name": "ProgressStyleModel",
      "_view_count": null,
      "_view_module": "@jupyter-widgets/base",
      "_view_module_version": "1.2.0",
      "_view_name": "StyleView",
      "bar_color": null,
      "description_width": "initial"
     }
    },
    "6e69f3fe4ac04250b5a353de0349021f": {
     "model_module": "@jupyter-widgets/base",
     "model_name": "LayoutModel",
     "state": {
      "_model_module": "@jupyter-widgets/base",
      "_model_module_version": "1.2.0",
      "_model_name": "LayoutModel",
      "_view_count": null,
      "_view_module": "@jupyter-widgets/base",
      "_view_module_version": "1.2.0",
      "_view_name": "LayoutView",
      "align_content": null,
      "align_items": null,
      "align_self": null,
      "border": null,
      "bottom": null,
      "display": null,
      "flex": null,
      "flex_flow": null,
      "grid_area": null,
      "grid_auto_columns": null,
      "grid_auto_flow": null,
      "grid_auto_rows": null,
      "grid_column": null,
      "grid_gap": null,
      "grid_row": null,
      "grid_template_areas": null,
      "grid_template_columns": null,
      "grid_template_rows": null,
      "height": null,
      "justify_content": null,
      "justify_items": null,
      "left": null,
      "margin": null,
      "max_height": null,
      "max_width": null,
      "min_height": null,
      "min_width": null,
      "object_fit": null,
      "object_position": null,
      "order": null,
      "overflow": null,
      "overflow_x": null,
      "overflow_y": null,
      "padding": null,
      "right": null,
      "top": null,
      "visibility": null,
      "width": null
     }
    },
    "7608564b82074b8cabcc0838956e57aa": {
     "model_module": "@jupyter-widgets/base",
     "model_name": "LayoutModel",
     "state": {
      "_model_module": "@jupyter-widgets/base",
      "_model_module_version": "1.2.0",
      "_model_name": "LayoutModel",
      "_view_count": null,
      "_view_module": "@jupyter-widgets/base",
      "_view_module_version": "1.2.0",
      "_view_name": "LayoutView",
      "align_content": null,
      "align_items": null,
      "align_self": null,
      "border": null,
      "bottom": null,
      "display": null,
      "flex": null,
      "flex_flow": null,
      "grid_area": null,
      "grid_auto_columns": null,
      "grid_auto_flow": null,
      "grid_auto_rows": null,
      "grid_column": null,
      "grid_gap": null,
      "grid_row": null,
      "grid_template_areas": null,
      "grid_template_columns": null,
      "grid_template_rows": null,
      "height": null,
      "justify_content": null,
      "justify_items": null,
      "left": null,
      "margin": null,
      "max_height": null,
      "max_width": null,
      "min_height": null,
      "min_width": null,
      "object_fit": null,
      "object_position": null,
      "order": null,
      "overflow": null,
      "overflow_x": null,
      "overflow_y": null,
      "padding": null,
      "right": null,
      "top": null,
      "visibility": null,
      "width": null
     }
    },
    "821f9b0dd4974ea19a6b52df2b2a901c": {
     "model_module": "@jupyter-widgets/base",
     "model_name": "LayoutModel",
     "state": {
      "_model_module": "@jupyter-widgets/base",
      "_model_module_version": "1.2.0",
      "_model_name": "LayoutModel",
      "_view_count": null,
      "_view_module": "@jupyter-widgets/base",
      "_view_module_version": "1.2.0",
      "_view_name": "LayoutView",
      "align_content": null,
      "align_items": null,
      "align_self": null,
      "border": null,
      "bottom": null,
      "display": null,
      "flex": null,
      "flex_flow": null,
      "grid_area": null,
      "grid_auto_columns": null,
      "grid_auto_flow": null,
      "grid_auto_rows": null,
      "grid_column": null,
      "grid_gap": null,
      "grid_row": null,
      "grid_template_areas": null,
      "grid_template_columns": null,
      "grid_template_rows": null,
      "height": null,
      "justify_content": null,
      "justify_items": null,
      "left": null,
      "margin": null,
      "max_height": null,
      "max_width": null,
      "min_height": null,
      "min_width": null,
      "object_fit": null,
      "object_position": null,
      "order": null,
      "overflow": null,
      "overflow_x": null,
      "overflow_y": null,
      "padding": null,
      "right": null,
      "top": null,
      "visibility": null,
      "width": null
     }
    },
    "8632d45469c34ceaaef769c6ff6eb926": {
     "model_module": "@jupyter-widgets/controls",
     "model_name": "DescriptionStyleModel",
     "state": {
      "_model_module": "@jupyter-widgets/controls",
      "_model_module_version": "1.5.0",
      "_model_name": "DescriptionStyleModel",
      "_view_count": null,
      "_view_module": "@jupyter-widgets/base",
      "_view_module_version": "1.2.0",
      "_view_name": "StyleView",
      "description_width": ""
     }
    },
    "995960904ecf442ebf201e53834d130d": {
     "model_module": "@jupyter-widgets/controls",
     "model_name": "HTMLModel",
     "state": {
      "_dom_classes": [],
      "_model_module": "@jupyter-widgets/controls",
      "_model_module_version": "1.5.0",
      "_model_name": "HTMLModel",
      "_view_count": null,
      "_view_module": "@jupyter-widgets/controls",
      "_view_module_version": "1.5.0",
      "_view_name": "HTMLView",
      "description": "",
      "description_tooltip": null,
      "layout": "IPY_MODEL_4fdf20158ddb40f98a1a5d15c9c7d6a8",
      "placeholder": "​",
      "style": "IPY_MODEL_8632d45469c34ceaaef769c6ff6eb926",
      "value": " 1649664/? [00:53&lt;00:00, 30779.96it/s]"
     }
    },
    "b0ce2e21c79a49e8bffb4d785bbb218b": {
     "model_module": "@jupyter-widgets/controls",
     "model_name": "HBoxModel",
     "state": {
      "_dom_classes": [],
      "_model_module": "@jupyter-widgets/controls",
      "_model_module_version": "1.5.0",
      "_model_name": "HBoxModel",
      "_view_count": null,
      "_view_module": "@jupyter-widgets/controls",
      "_view_module_version": "1.5.0",
      "_view_name": "HBoxView",
      "box_style": "",
      "children": [
       "IPY_MODEL_5566f2c7e33a4a38aa331f657ca06e33",
       "IPY_MODEL_d70e9b2cba9240d0ae589839d5b70262"
      ],
      "layout": "IPY_MODEL_821f9b0dd4974ea19a6b52df2b2a901c"
     }
    },
    "b405e22769104650a97e54db107a43be": {
     "model_module": "@jupyter-widgets/controls",
     "model_name": "DescriptionStyleModel",
     "state": {
      "_model_module": "@jupyter-widgets/controls",
      "_model_module_version": "1.5.0",
      "_model_name": "DescriptionStyleModel",
      "_view_count": null,
      "_view_module": "@jupyter-widgets/base",
      "_view_module_version": "1.2.0",
      "_view_name": "StyleView",
      "description_width": ""
     }
    },
    "b71c54435b6344019b58e03d03840dc6": {
     "model_module": "@jupyter-widgets/base",
     "model_name": "LayoutModel",
     "state": {
      "_model_module": "@jupyter-widgets/base",
      "_model_module_version": "1.2.0",
      "_model_name": "LayoutModel",
      "_view_count": null,
      "_view_module": "@jupyter-widgets/base",
      "_view_module_version": "1.2.0",
      "_view_name": "LayoutView",
      "align_content": null,
      "align_items": null,
      "align_self": null,
      "border": null,
      "bottom": null,
      "display": null,
      "flex": null,
      "flex_flow": null,
      "grid_area": null,
      "grid_auto_columns": null,
      "grid_auto_flow": null,
      "grid_auto_rows": null,
      "grid_column": null,
      "grid_gap": null,
      "grid_row": null,
      "grid_template_areas": null,
      "grid_template_columns": null,
      "grid_template_rows": null,
      "height": null,
      "justify_content": null,
      "justify_items": null,
      "left": null,
      "margin": null,
      "max_height": null,
      "max_width": null,
      "min_height": null,
      "min_width": null,
      "object_fit": null,
      "object_position": null,
      "order": null,
      "overflow": null,
      "overflow_x": null,
      "overflow_y": null,
      "padding": null,
      "right": null,
      "top": null,
      "visibility": null,
      "width": null
     }
    },
    "c14f00b333c84fc989ef9e317c1f4309": {
     "model_module": "@jupyter-widgets/controls",
     "model_name": "HBoxModel",
     "state": {
      "_dom_classes": [],
      "_model_module": "@jupyter-widgets/controls",
      "_model_module_version": "1.5.0",
      "_model_name": "HBoxModel",
      "_view_count": null,
      "_view_module": "@jupyter-widgets/controls",
      "_view_module_version": "1.5.0",
      "_view_name": "HBoxView",
      "box_style": "",
      "children": [
       "IPY_MODEL_efa53a51ac424ff7a39185913c8e102e",
       "IPY_MODEL_995960904ecf442ebf201e53834d130d"
      ],
      "layout": "IPY_MODEL_6e69f3fe4ac04250b5a353de0349021f"
     }
    },
    "d70e9b2cba9240d0ae589839d5b70262": {
     "model_module": "@jupyter-widgets/controls",
     "model_name": "HTMLModel",
     "state": {
      "_dom_classes": [],
      "_model_module": "@jupyter-widgets/controls",
      "_model_module_version": "1.5.0",
      "_model_name": "HTMLModel",
      "_view_count": null,
      "_view_module": "@jupyter-widgets/controls",
      "_view_module_version": "1.5.0",
      "_view_name": "HTMLView",
      "description": "",
      "description_tooltip": null,
      "layout": "IPY_MODEL_7608564b82074b8cabcc0838956e57aa",
      "placeholder": "​",
      "style": "IPY_MODEL_b405e22769104650a97e54db107a43be",
      "value": " 5120/? [00:06&lt;00:00, 776.75it/s]"
     }
    },
    "efa53a51ac424ff7a39185913c8e102e": {
     "model_module": "@jupyter-widgets/controls",
     "model_name": "FloatProgressModel",
     "state": {
      "_dom_classes": [],
      "_model_module": "@jupyter-widgets/controls",
      "_model_module_version": "1.5.0",
      "_model_name": "FloatProgressModel",
      "_view_count": null,
      "_view_module": "@jupyter-widgets/controls",
      "_view_module_version": "1.5.0",
      "_view_name": "ProgressView",
      "bar_style": "success",
      "description": "",
      "description_tooltip": null,
      "layout": "IPY_MODEL_b71c54435b6344019b58e03d03840dc6",
      "max": 1648877,
      "min": 0,
      "orientation": "horizontal",
      "style": "IPY_MODEL_5a52c28f374540a6a0ee0e30b6564eb1",
      "value": 1648877
     }
    }
   }
  }
 },
 "nbformat": 4,
 "nbformat_minor": 1
}
